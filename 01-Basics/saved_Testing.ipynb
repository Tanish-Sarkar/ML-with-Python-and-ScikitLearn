{
 "cells": [
  {
   "cell_type": "markdown",
   "id": "15667ee6",
   "metadata": {},
   "source": [
    "# Saved Testing"
   ]
  },
  {
   "cell_type": "code",
   "execution_count": 3,
   "id": "1e910094",
   "metadata": {},
   "outputs": [
    {
     "name": "stdout",
     "output_type": "stream",
     "text": [
      "[66271.61334241 55849.89788972 48133.08373043]\n"
     ]
    }
   ],
   "source": [
    "import pandas as pd\n",
    "from joblib import load\n",
    "\n",
    "# Load the saved model\n",
    "loaded_model = load('../05-Models/SalaryPredictionModel1.joblib')\n",
    "\n",
    "# Prepare new data for prediction (example)\n",
    "new_data = pd.DataFrame({\n",
    "    'experience': [5, 2, 0],\n",
    "    'test_score': [8, 7, 6],\n",
    "    'interview_score': [9, 8, 7]\n",
    "})\n",
    "\n",
    "# Make predictions\n",
    "predictions = loaded_model.predict(new_data)\n",
    "print(predictions)"
   ]
  },
  {
   "cell_type": "code",
   "execution_count": null,
   "id": "4faa8a92",
   "metadata": {},
   "outputs": [],
   "source": []
  }
 ],
 "metadata": {
  "kernelspec": {
   "display_name": "Python 3",
   "language": "python",
   "name": "python3"
  },
  "language_info": {
   "codemirror_mode": {
    "name": "ipython",
    "version": 3
   },
   "file_extension": ".py",
   "mimetype": "text/x-python",
   "name": "python",
   "nbconvert_exporter": "python",
   "pygments_lexer": "ipython3",
   "version": "3.12.6"
  }
 },
 "nbformat": 4,
 "nbformat_minor": 5
}
